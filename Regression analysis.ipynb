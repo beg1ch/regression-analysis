{
 "cells": [
  {
   "cell_type": "markdown",
   "metadata": {},
   "source": [
    " # Цель: По показателям экономического развития субъектов Российской Федерации провести регрессионный анализ"
   ]
  },
  {
   "cell_type": "code",
   "execution_count": 1,
   "metadata": {},
   "outputs": [],
   "source": [
    "import numpy as np\n",
    "import pandas as pd\n",
    "import statsmodels.api as sm\n",
    "import scipy.stats as stats\n",
    "import matplotlib.pyplot as plt\n",
    "import seaborn as sns\n",
    "from scipy.stats import spearmanr\n",
    "from scipy.stats import norm\n",
    "from scipy import stats"
   ]
  },
  {
   "cell_type": "markdown",
   "metadata": {},
   "source": [
    "##### В качестве результативного признака Y выступает ожидаемая продолжительность жизни граждан, выраженная в годах, а в качестве объясняющих признаков Х1...Х9 выступают : "
   ]
  },
  {
   "cell_type": "code",
   "execution_count": 2,
   "metadata": {},
   "outputs": [
    {
     "data": {
      "application/vnd.microsoft.datawrangler.viewer.v0+json": {
       "columns": [
        {
         "name": "index",
         "rawType": "int64",
         "type": "integer"
        },
        {
         "name": "Переменная",
         "rawType": "object",
         "type": "string"
        },
        {
         "name": "Наименование переменной",
         "rawType": "object",
         "type": "string"
        }
       ],
       "conversionMethod": "pd.DataFrame",
       "ref": "3d9d32b6-1c09-4e91-9c6d-5bc89ed88406",
       "rows": [
        [
         "0",
         "У",
         "Ожидаемая продолжительность жизни граждан, лет"
        ],
        [
         "1",
         "X1",
         "Коэффициент смертности, %"
        ],
        [
         "2",
         "X2",
         "Среднедушевые доходы населения (в месяц, руб)"
        ],
        [
         "3",
         "X3",
         "Процент безработных, %"
        ],
        [
         "4",
         "X4",
         "Продажа алкогольной продукции населению на 100 000 человек населения(тысяч декалитров)"
        ],
        [
         "5",
         "X5",
         "Численность студентов, обучающихся по программам бакалавриата, специалитета, магистратуры на 10 000 человек населения, всего"
        ],
        [
         "6",
         "X6",
         "Численность населения на одну больничную койку"
        ],
        [
         "7",
         "X7",
         "Реальный размер назначенных пенсий, в % к предыдущему году"
        ],
        [
         "8",
         "X8",
         "Индексы потребительских цен на продовольственные товары, %"
        ],
        [
         "9",
         "X9",
         "Кол-во преступлений (наркотики) на 100 000 человек населения"
        ]
       ],
       "shape": {
        "columns": 2,
        "rows": 10
       }
      },
      "text/html": [
       "<div>\n",
       "<style scoped>\n",
       "    .dataframe tbody tr th:only-of-type {\n",
       "        vertical-align: middle;\n",
       "    }\n",
       "\n",
       "    .dataframe tbody tr th {\n",
       "        vertical-align: top;\n",
       "    }\n",
       "\n",
       "    .dataframe thead th {\n",
       "        text-align: right;\n",
       "    }\n",
       "</style>\n",
       "<table border=\"1\" class=\"dataframe\">\n",
       "  <thead>\n",
       "    <tr style=\"text-align: right;\">\n",
       "      <th></th>\n",
       "      <th>Переменная</th>\n",
       "      <th>Наименование переменной</th>\n",
       "    </tr>\n",
       "  </thead>\n",
       "  <tbody>\n",
       "    <tr>\n",
       "      <th>0</th>\n",
       "      <td>У</td>\n",
       "      <td>Ожидаемая продолжительность жизни граждан, лет</td>\n",
       "    </tr>\n",
       "    <tr>\n",
       "      <th>1</th>\n",
       "      <td>X1</td>\n",
       "      <td>Коэффициент смертности, %</td>\n",
       "    </tr>\n",
       "    <tr>\n",
       "      <th>2</th>\n",
       "      <td>X2</td>\n",
       "      <td>Среднедушевые доходы населения (в месяц, руб)</td>\n",
       "    </tr>\n",
       "    <tr>\n",
       "      <th>3</th>\n",
       "      <td>X3</td>\n",
       "      <td>Процент безработных, %</td>\n",
       "    </tr>\n",
       "    <tr>\n",
       "      <th>4</th>\n",
       "      <td>X4</td>\n",
       "      <td>Продажа алкогольной продукции населению на 100...</td>\n",
       "    </tr>\n",
       "    <tr>\n",
       "      <th>5</th>\n",
       "      <td>X5</td>\n",
       "      <td>Численность студентов, обучающихся по программ...</td>\n",
       "    </tr>\n",
       "    <tr>\n",
       "      <th>6</th>\n",
       "      <td>X6</td>\n",
       "      <td>Численность населения на одну больничную койку</td>\n",
       "    </tr>\n",
       "    <tr>\n",
       "      <th>7</th>\n",
       "      <td>X7</td>\n",
       "      <td>Реальный размер назначенных пенсий, в % к пред...</td>\n",
       "    </tr>\n",
       "    <tr>\n",
       "      <th>8</th>\n",
       "      <td>X8</td>\n",
       "      <td>Индексы потребительских цен на продовольственн...</td>\n",
       "    </tr>\n",
       "    <tr>\n",
       "      <th>9</th>\n",
       "      <td>X9</td>\n",
       "      <td>Кол-во преступлений (наркотики) на 100 000 чел...</td>\n",
       "    </tr>\n",
       "  </tbody>\n",
       "</table>\n",
       "</div>"
      ],
      "text/plain": [
       "  Переменная                            Наименование переменной\n",
       "0          У     Ожидаемая продолжительность жизни граждан, лет\n",
       "1         X1                          Коэффициент смертности, %\n",
       "2         X2      Среднедушевые доходы населения (в месяц, руб)\n",
       "3         X3                             Процент безработных, %\n",
       "4         X4  Продажа алкогольной продукции населению на 100...\n",
       "5         X5  Численность студентов, обучающихся по программ...\n",
       "6         X6     Численность населения на одну больничную койку\n",
       "7         X7  Реальный размер назначенных пенсий, в % к пред...\n",
       "8         X8  Индексы потребительских цен на продовольственн...\n",
       "9         X9  Кол-во преступлений (наркотики) на 100 000 чел..."
      ]
     },
     "execution_count": 2,
     "metadata": {},
     "output_type": "execute_result"
    }
   ],
   "source": [
    "variables = pd.DataFrame( pd.read_excel(\"C:/Users/admin/OneDrive/Рабочий стол/Data.xlsx\",  sheet_name='Sheet2'))\n",
    "variables"
   ]
  },
  {
   "cell_type": "code",
   "execution_count": 3,
   "metadata": {},
   "outputs": [
    {
     "data": {
      "application/vnd.microsoft.datawrangler.viewer.v0+json": {
       "columns": [
        {
         "name": "index",
         "rawType": "int64",
         "type": "integer"
        },
        {
         "name": "Наименование",
         "rawType": "object",
         "type": "string"
        },
        {
         "name": "Y",
         "rawType": "float64",
         "type": "float"
        },
        {
         "name": "X1",
         "rawType": "float64",
         "type": "float"
        },
        {
         "name": "X2",
         "rawType": "int64",
         "type": "integer"
        },
        {
         "name": "X3",
         "rawType": "float64",
         "type": "float"
        },
        {
         "name": "X4",
         "rawType": "float64",
         "type": "float"
        },
        {
         "name": "X5",
         "rawType": "int64",
         "type": "integer"
        },
        {
         "name": "X6",
         "rawType": "float64",
         "type": "float"
        },
        {
         "name": "X7",
         "rawType": "float64",
         "type": "float"
        },
        {
         "name": "X8",
         "rawType": "float64",
         "type": "float"
        },
        {
         "name": "X9",
         "rawType": "float64",
         "type": "float"
        }
       ],
       "conversionMethod": "pd.DataFrame",
       "ref": "8fcc021d-3bb4-4fd1-bbce-9b7ab47d2c76",
       "rows": [
        [
         "0",
         "Алтайский край",
         "64.5",
         "1.43629745189808",
         "36431",
         "48.9",
         "57.56630265210609",
         "245",
         "104.42",
         "102.5",
         "110.2",
         "102.25499929088072"
        ],
        [
         "1",
         "Амурская область",
         "62.3",
         "1.409012131715771",
         "54055",
         "49.7",
         "103.01293160911878",
         "204",
         "107.54",
         "101.7",
         "108.6",
         "122.91694440741234"
        ],
        [
         "2",
         "Архангельская область без автономного округа",
         "65.52",
         "1.4236241891609123",
         "55952",
         "55.8",
         "132.15107763130362",
         "186",
         "108.79",
         "102.0",
         "108.5",
         "57.438794726930325"
        ],
        [
         "3",
         "Астраханская область",
         "66.8",
         "1.1804733727810652",
         "36593",
         "47.6",
         "56.868131868131876",
         "298",
         "119.02",
         "101.5",
         "108.7",
         "58.4319526627219"
        ],
        [
         "4",
         "Белгородская область",
         "68.16",
         "1.3435729992670087",
         "47257",
         "43.5",
         "52.22895981875124",
         "321",
         "140.0",
         "101.6",
         "108.8",
         "103.4850403145199"
        ]
       ],
       "shape": {
        "columns": 11,
        "rows": 5
       }
      },
      "text/html": [
       "<div>\n",
       "<style scoped>\n",
       "    .dataframe tbody tr th:only-of-type {\n",
       "        vertical-align: middle;\n",
       "    }\n",
       "\n",
       "    .dataframe tbody tr th {\n",
       "        vertical-align: top;\n",
       "    }\n",
       "\n",
       "    .dataframe thead th {\n",
       "        text-align: right;\n",
       "    }\n",
       "</style>\n",
       "<table border=\"1\" class=\"dataframe\">\n",
       "  <thead>\n",
       "    <tr style=\"text-align: right;\">\n",
       "      <th></th>\n",
       "      <th>Наименование</th>\n",
       "      <th>Y</th>\n",
       "      <th>X1</th>\n",
       "      <th>X2</th>\n",
       "      <th>X3</th>\n",
       "      <th>X4</th>\n",
       "      <th>X5</th>\n",
       "      <th>X6</th>\n",
       "      <th>X7</th>\n",
       "      <th>X8</th>\n",
       "      <th>X9</th>\n",
       "    </tr>\n",
       "  </thead>\n",
       "  <tbody>\n",
       "    <tr>\n",
       "      <th>0</th>\n",
       "      <td>Алтайский край</td>\n",
       "      <td>64.50</td>\n",
       "      <td>1.436297</td>\n",
       "      <td>36431</td>\n",
       "      <td>48.9</td>\n",
       "      <td>57.566303</td>\n",
       "      <td>245</td>\n",
       "      <td>104.42</td>\n",
       "      <td>102.5</td>\n",
       "      <td>110.2</td>\n",
       "      <td>102.254999</td>\n",
       "    </tr>\n",
       "    <tr>\n",
       "      <th>1</th>\n",
       "      <td>Амурская область</td>\n",
       "      <td>62.30</td>\n",
       "      <td>1.409012</td>\n",
       "      <td>54055</td>\n",
       "      <td>49.7</td>\n",
       "      <td>103.012932</td>\n",
       "      <td>204</td>\n",
       "      <td>107.54</td>\n",
       "      <td>101.7</td>\n",
       "      <td>108.6</td>\n",
       "      <td>122.916944</td>\n",
       "    </tr>\n",
       "    <tr>\n",
       "      <th>2</th>\n",
       "      <td>Архангельская область без автономного округа</td>\n",
       "      <td>65.52</td>\n",
       "      <td>1.423624</td>\n",
       "      <td>55952</td>\n",
       "      <td>55.8</td>\n",
       "      <td>132.151078</td>\n",
       "      <td>186</td>\n",
       "      <td>108.79</td>\n",
       "      <td>102.0</td>\n",
       "      <td>108.5</td>\n",
       "      <td>57.438795</td>\n",
       "    </tr>\n",
       "    <tr>\n",
       "      <th>3</th>\n",
       "      <td>Астраханская область</td>\n",
       "      <td>66.80</td>\n",
       "      <td>1.180473</td>\n",
       "      <td>36593</td>\n",
       "      <td>47.6</td>\n",
       "      <td>56.868132</td>\n",
       "      <td>298</td>\n",
       "      <td>119.02</td>\n",
       "      <td>101.5</td>\n",
       "      <td>108.7</td>\n",
       "      <td>58.431953</td>\n",
       "    </tr>\n",
       "    <tr>\n",
       "      <th>4</th>\n",
       "      <td>Белгородская область</td>\n",
       "      <td>68.16</td>\n",
       "      <td>1.343573</td>\n",
       "      <td>47257</td>\n",
       "      <td>43.5</td>\n",
       "      <td>52.228960</td>\n",
       "      <td>321</td>\n",
       "      <td>140.00</td>\n",
       "      <td>101.6</td>\n",
       "      <td>108.8</td>\n",
       "      <td>103.485040</td>\n",
       "    </tr>\n",
       "  </tbody>\n",
       "</table>\n",
       "</div>"
      ],
      "text/plain": [
       "                                   Наименование      Y        X1     X2    X3  \\\n",
       "0                                Алтайский край  64.50  1.436297  36431  48.9   \n",
       "1                              Амурская область  62.30  1.409012  54055  49.7   \n",
       "2  Архангельская область без автономного округа  65.52  1.423624  55952  55.8   \n",
       "3                          Астраханская область  66.80  1.180473  36593  47.6   \n",
       "4                          Белгородская область  68.16  1.343573  47257  43.5   \n",
       "\n",
       "           X4   X5      X6     X7     X8          X9  \n",
       "0   57.566303  245  104.42  102.5  110.2  102.254999  \n",
       "1  103.012932  204  107.54  101.7  108.6  122.916944  \n",
       "2  132.151078  186  108.79  102.0  108.5   57.438795  \n",
       "3   56.868132  298  119.02  101.5  108.7   58.431953  \n",
       "4   52.228960  321  140.00  101.6  108.8  103.485040  "
      ]
     },
     "execution_count": 3,
     "metadata": {},
     "output_type": "execute_result"
    }
   ],
   "source": [
    "data = pd.DataFrame(pd.read_excel(\"C:/Users/admin/OneDrive/Рабочий стол/Data.xlsx\", engine=\"openpyxl\", sheet_name='Sheet1'))\n",
    "data.head()"
   ]
  },
  {
   "cell_type": "code",
   "execution_count": 4,
   "metadata": {},
   "outputs": [
    {
     "name": "stdout",
     "output_type": "stream",
     "text": [
      "<class 'pandas.core.frame.DataFrame'>\n",
      "RangeIndex: 85 entries, 0 to 84\n",
      "Data columns (total 11 columns):\n",
      " #   Column        Non-Null Count  Dtype  \n",
      "---  ------        --------------  -----  \n",
      " 0   Наименование  85 non-null     object \n",
      " 1   Y             85 non-null     float64\n",
      " 2   X1            85 non-null     float64\n",
      " 3   X2            85 non-null     int64  \n",
      " 4   X3            85 non-null     float64\n",
      " 5   X4            85 non-null     float64\n",
      " 6   X5            85 non-null     int64  \n",
      " 7   X6            85 non-null     float64\n",
      " 8   X7            85 non-null     float64\n",
      " 9   X8            85 non-null     float64\n",
      " 10  X9            85 non-null     float64\n",
      "dtypes: float64(8), int64(2), object(1)\n",
      "memory usage: 7.4+ KB\n"
     ]
    }
   ],
   "source": [
    "data.info()"
   ]
  },
  {
   "cell_type": "markdown",
   "metadata": {},
   "source": [
    "#### Оценим основные характеристики переменных"
   ]
  },
  {
   "cell_type": "code",
   "execution_count": 5,
   "metadata": {},
   "outputs": [
    {
     "data": {
      "application/vnd.microsoft.datawrangler.viewer.v0+json": {
       "columns": [
        {
         "name": "index",
         "rawType": "object",
         "type": "string"
        },
        {
         "name": "Y",
         "rawType": "float64",
         "type": "float"
        },
        {
         "name": "X1",
         "rawType": "float64",
         "type": "float"
        },
        {
         "name": "X2",
         "rawType": "float64",
         "type": "float"
        },
        {
         "name": "X3",
         "rawType": "float64",
         "type": "float"
        },
        {
         "name": "X4",
         "rawType": "float64",
         "type": "float"
        },
        {
         "name": "X5",
         "rawType": "float64",
         "type": "float"
        },
        {
         "name": "X6",
         "rawType": "float64",
         "type": "float"
        },
        {
         "name": "X7",
         "rawType": "float64",
         "type": "float"
        },
        {
         "name": "X8",
         "rawType": "float64",
         "type": "float"
        },
        {
         "name": "X9",
         "rawType": "float64",
         "type": "float"
        }
       ],
       "conversionMethod": "pd.DataFrame",
       "ref": "5652de89-31f4-4a17-90cd-c72387d14da0",
       "rows": [
        [
         "count",
         "85.0",
         "85.0",
         "85.0",
         "85.0",
         "85.0",
         "85.0",
         "85.0",
         "85.0",
         "85.0",
         "85.0"
        ],
        [
         "mean",
         "66.78776470588235",
         "1.2459076905574025",
         "49467.717647058824",
         "49.55647058823531",
         "78.50109069497294",
         "240.76470588235293",
         "124.86023529411766",
         "102.3964705882353",
         "108.36000000000003",
         "79.18345659579512"
        ],
        [
         "std",
         "3.4808101056502116",
         "0.28551617159285775",
         "23930.147654715183",
         "6.74030957072772",
         "32.87155401176281",
         "114.55157364789925",
         "23.623864950131946",
         "1.635866383152797",
         "1.4729465124611372",
         "33.79722818186196"
        ],
        [
         "min",
         "58.67",
         "0.32340667678300455",
         "24414.0",
         "20.6",
         "0.6375169038572992",
         "0.0",
         "74.23",
         "96.2",
         "101.7",
         "17.386824650653615"
        ],
        [
         "25%",
         "64.63",
         "1.0917665553153861",
         "38277.0",
         "45.8",
         "59.34926958831341",
         "178.0",
         "108.83",
         "101.5",
         "107.7",
         "56.45906486786177"
        ],
        [
         "50%",
         "66.07",
         "1.3181893185193334",
         "42684.0",
         "49.2",
         "74.15055914823681",
         "230.0",
         "122.32",
         "102.4",
         "108.5",
         "71.71216752749376"
        ],
        [
         "75%",
         "68.47",
         "1.43629745189808",
         "50601.0",
         "53.6",
         "101.05005250262514",
         "298.0",
         "133.73",
         "103.1",
         "109.0",
         "97.93670709605466"
        ],
        [
         "max",
         "77.81",
         "1.7019445878506283",
         "156988.0",
         "62.1",
         "161.92021378125594",
         "707.0",
         "225.6",
         "106.4",
         "112.1",
         "171.55555555555554"
        ]
       ],
       "shape": {
        "columns": 10,
        "rows": 8
       }
      },
      "text/html": [
       "<div>\n",
       "<style scoped>\n",
       "    .dataframe tbody tr th:only-of-type {\n",
       "        vertical-align: middle;\n",
       "    }\n",
       "\n",
       "    .dataframe tbody tr th {\n",
       "        vertical-align: top;\n",
       "    }\n",
       "\n",
       "    .dataframe thead th {\n",
       "        text-align: right;\n",
       "    }\n",
       "</style>\n",
       "<table border=\"1\" class=\"dataframe\">\n",
       "  <thead>\n",
       "    <tr style=\"text-align: right;\">\n",
       "      <th></th>\n",
       "      <th>Y</th>\n",
       "      <th>X1</th>\n",
       "      <th>X2</th>\n",
       "      <th>X3</th>\n",
       "      <th>X4</th>\n",
       "      <th>X5</th>\n",
       "      <th>X6</th>\n",
       "      <th>X7</th>\n",
       "      <th>X8</th>\n",
       "      <th>X9</th>\n",
       "    </tr>\n",
       "  </thead>\n",
       "  <tbody>\n",
       "    <tr>\n",
       "      <th>count</th>\n",
       "      <td>85.000000</td>\n",
       "      <td>85.000000</td>\n",
       "      <td>85.000000</td>\n",
       "      <td>85.000000</td>\n",
       "      <td>85.000000</td>\n",
       "      <td>85.000000</td>\n",
       "      <td>85.000000</td>\n",
       "      <td>85.000000</td>\n",
       "      <td>85.000000</td>\n",
       "      <td>85.000000</td>\n",
       "    </tr>\n",
       "    <tr>\n",
       "      <th>mean</th>\n",
       "      <td>66.787765</td>\n",
       "      <td>1.245908</td>\n",
       "      <td>49467.717647</td>\n",
       "      <td>49.556471</td>\n",
       "      <td>78.501091</td>\n",
       "      <td>240.764706</td>\n",
       "      <td>124.860235</td>\n",
       "      <td>102.396471</td>\n",
       "      <td>108.360000</td>\n",
       "      <td>79.183457</td>\n",
       "    </tr>\n",
       "    <tr>\n",
       "      <th>std</th>\n",
       "      <td>3.480810</td>\n",
       "      <td>0.285516</td>\n",
       "      <td>23930.147655</td>\n",
       "      <td>6.740310</td>\n",
       "      <td>32.871554</td>\n",
       "      <td>114.551574</td>\n",
       "      <td>23.623865</td>\n",
       "      <td>1.635866</td>\n",
       "      <td>1.472947</td>\n",
       "      <td>33.797228</td>\n",
       "    </tr>\n",
       "    <tr>\n",
       "      <th>min</th>\n",
       "      <td>58.670000</td>\n",
       "      <td>0.323407</td>\n",
       "      <td>24414.000000</td>\n",
       "      <td>20.600000</td>\n",
       "      <td>0.637517</td>\n",
       "      <td>0.000000</td>\n",
       "      <td>74.230000</td>\n",
       "      <td>96.200000</td>\n",
       "      <td>101.700000</td>\n",
       "      <td>17.386825</td>\n",
       "    </tr>\n",
       "    <tr>\n",
       "      <th>25%</th>\n",
       "      <td>64.630000</td>\n",
       "      <td>1.091767</td>\n",
       "      <td>38277.000000</td>\n",
       "      <td>45.800000</td>\n",
       "      <td>59.349270</td>\n",
       "      <td>178.000000</td>\n",
       "      <td>108.830000</td>\n",
       "      <td>101.500000</td>\n",
       "      <td>107.700000</td>\n",
       "      <td>56.459065</td>\n",
       "    </tr>\n",
       "    <tr>\n",
       "      <th>50%</th>\n",
       "      <td>66.070000</td>\n",
       "      <td>1.318189</td>\n",
       "      <td>42684.000000</td>\n",
       "      <td>49.200000</td>\n",
       "      <td>74.150559</td>\n",
       "      <td>230.000000</td>\n",
       "      <td>122.320000</td>\n",
       "      <td>102.400000</td>\n",
       "      <td>108.500000</td>\n",
       "      <td>71.712168</td>\n",
       "    </tr>\n",
       "    <tr>\n",
       "      <th>75%</th>\n",
       "      <td>68.470000</td>\n",
       "      <td>1.436297</td>\n",
       "      <td>50601.000000</td>\n",
       "      <td>53.600000</td>\n",
       "      <td>101.050053</td>\n",
       "      <td>298.000000</td>\n",
       "      <td>133.730000</td>\n",
       "      <td>103.100000</td>\n",
       "      <td>109.000000</td>\n",
       "      <td>97.936707</td>\n",
       "    </tr>\n",
       "    <tr>\n",
       "      <th>max</th>\n",
       "      <td>77.810000</td>\n",
       "      <td>1.701945</td>\n",
       "      <td>156988.000000</td>\n",
       "      <td>62.100000</td>\n",
       "      <td>161.920214</td>\n",
       "      <td>707.000000</td>\n",
       "      <td>225.600000</td>\n",
       "      <td>106.400000</td>\n",
       "      <td>112.100000</td>\n",
       "      <td>171.555556</td>\n",
       "    </tr>\n",
       "  </tbody>\n",
       "</table>\n",
       "</div>"
      ],
      "text/plain": [
       "               Y         X1             X2         X3          X4          X5  \\\n",
       "count  85.000000  85.000000      85.000000  85.000000   85.000000   85.000000   \n",
       "mean   66.787765   1.245908   49467.717647  49.556471   78.501091  240.764706   \n",
       "std     3.480810   0.285516   23930.147655   6.740310   32.871554  114.551574   \n",
       "min    58.670000   0.323407   24414.000000  20.600000    0.637517    0.000000   \n",
       "25%    64.630000   1.091767   38277.000000  45.800000   59.349270  178.000000   \n",
       "50%    66.070000   1.318189   42684.000000  49.200000   74.150559  230.000000   \n",
       "75%    68.470000   1.436297   50601.000000  53.600000  101.050053  298.000000   \n",
       "max    77.810000   1.701945  156988.000000  62.100000  161.920214  707.000000   \n",
       "\n",
       "               X6          X7          X8          X9  \n",
       "count   85.000000   85.000000   85.000000   85.000000  \n",
       "mean   124.860235  102.396471  108.360000   79.183457  \n",
       "std     23.623865    1.635866    1.472947   33.797228  \n",
       "min     74.230000   96.200000  101.700000   17.386825  \n",
       "25%    108.830000  101.500000  107.700000   56.459065  \n",
       "50%    122.320000  102.400000  108.500000   71.712168  \n",
       "75%    133.730000  103.100000  109.000000   97.936707  \n",
       "max    225.600000  106.400000  112.100000  171.555556  "
      ]
     },
     "execution_count": 5,
     "metadata": {},
     "output_type": "execute_result"
    }
   ],
   "source": [
    "data.describe()"
   ]
  },
  {
   "cell_type": "markdown",
   "metadata": {},
   "source": [
    "#### По исходным статистическим данным оценим коэффициенты  уравнения регрессии\n"
   ]
  },
  {
   "cell_type": "code",
   "execution_count": 6,
   "metadata": {},
   "outputs": [
    {
     "name": "stdout",
     "output_type": "stream",
     "text": [
      "                            OLS Regression Results                            \n",
      "==============================================================================\n",
      "Dep. Variable:                      Y   R-squared:                       0.753\n",
      "Model:                            OLS   Adj. R-squared:                  0.724\n",
      "Method:                 Least Squares   F-statistic:                     25.45\n",
      "Date:                Sun, 20 Apr 2025   Prob (F-statistic):           2.08e-19\n",
      "Time:                        11:21:19   Log-Likelihood:                -166.63\n",
      "No. Observations:                  85   AIC:                             353.3\n",
      "Df Residuals:                      75   BIC:                             377.7\n",
      "Df Model:                           9                                         \n",
      "Covariance Type:            nonrobust                                         \n",
      "==============================================================================\n",
      "                 coef    std err          t      P>|t|      [0.025      0.975]\n",
      "------------------------------------------------------------------------------\n",
      "const         99.0007     23.834      4.154      0.000      51.521     146.481\n",
      "X1            -5.3985      1.103     -4.893      0.000      -7.596      -3.201\n",
      "X2         -1.946e-05   1.41e-05     -1.380      0.172   -4.76e-05    8.63e-06\n",
      "X3            -0.0670      0.035     -1.912      0.060      -0.137       0.003\n",
      "X4            -0.0094      0.011     -0.873      0.385      -0.031       0.012\n",
      "X5             0.0070      0.002      3.579      0.001       0.003       0.011\n",
      "X6             0.0506      0.012      4.336      0.000       0.027       0.074\n",
      "X7            -0.1438      0.130     -1.109      0.271      -0.402       0.114\n",
      "X8            -0.1115      0.162     -0.690      0.492      -0.434       0.211\n",
      "X9            -0.0209      0.006     -3.334      0.001      -0.033      -0.008\n",
      "==============================================================================\n",
      "Omnibus:                        7.887   Durbin-Watson:                   2.220\n",
      "Prob(Omnibus):                  0.019   Jarque-Bera (JB):                8.633\n",
      "Skew:                          -0.498   Prob(JB):                       0.0133\n",
      "Kurtosis:                       4.202   Cond. No.                     6.59e+06\n",
      "==============================================================================\n",
      "\n",
      "Notes:\n",
      "[1] Standard Errors assume that the covariance matrix of the errors is correctly specified.\n",
      "[2] The condition number is large, 6.59e+06. This might indicate that there are\n",
      "strong multicollinearity or other numerical problems.\n"
     ]
    }
   ],
   "source": [
    "#Построение модели \n",
    "Y = data['Y']\n",
    "X = data[data.columns[2:11]]\n",
    "\n",
    "X = sm.add_constant(X)\n",
    "model = sm.OLS(Y,X).fit()\n",
    "print(model.summary())"
   ]
  },
  {
   "cell_type": "code",
   "execution_count": 7,
   "metadata": {},
   "outputs": [
    {
     "name": "stdout",
     "output_type": "stream",
     "text": [
      "Оценка уравнения регрессии выглядит следующим образом:\n",
      "Y = 99.0007 - 5.398514*X1 - 0.000019*X2 - 0.067042*X3 - 0.009359*X4 + 0.006966*X5 + 0.050641*X6 - 0.143817*X7 - 0.111537*X8 - 0.020902*X9\n"
     ]
    }
   ],
   "source": [
    "coefficients = pd.DataFrame(model.params)\n",
    "\n",
    "equation = f\"Y = {coefficients.loc['const',0]:.4f}\"\n",
    "\n",
    "for name, coef in coefficients[1:].iterrows():\n",
    "    x = name\n",
    "    i = coef[0]\n",
    "    sign = \"+\" if i >= 0 else \"-\"\n",
    "    equation += f\" {sign} {abs(i):.6f}*{x}\"\n",
    "\n",
    "\n",
    "print(\"Оценка уравнения регрессии выглядит следующим образом:\")\n",
    "print(equation)"
   ]
  },
  {
   "cell_type": "markdown",
   "metadata": {},
   "source": [
    "##### Из полученных результатов (R2 = 0,75) можно сделать следующий вывод: Доля вариации ожидаемой продолжительности жизни граждан, обусловленная вышеописанными значимыми признаками, составляет 75%, т.е. результативный признак зависит от неучтенных факторов на 25%.\n"
   ]
  },
  {
   "cell_type": "markdown",
   "metadata": {},
   "source": [
    "#### Проверка гипотезы о нормальном характере распределения регрессионных остатков"
   ]
  },
  {
   "cell_type": "code",
   "execution_count": 8,
   "metadata": {},
   "outputs": [
    {
     "name": "stdout",
     "output_type": "stream",
     "text": [
      "Регрессионные остатки принадлежат нормальному распределнию\n"
     ]
    }
   ],
   "source": [
    "ks_test = stats.kstest(model.resid, 'norm', args=(np.mean(model.resid), np.std(model.resid, ddof=1)))\n",
    "alpha = 0.05\n",
    "ks_test.pvalue\n",
    "\n",
    "print(\"Регрессионные остатки принадлежат нормальному распределнию\" if ks_test.pvalue > alpha else \"Регрессионные остатки не принадлежат нормальному распределнию\")"
   ]
  },
  {
   "cell_type": "markdown",
   "metadata": {},
   "source": [
    "#### Гистограмма распределения регрессионных остатков: "
   ]
  },
  {
   "cell_type": "code",
   "execution_count": 34,
   "metadata": {},
   "outputs": [
    {
     "data": {
      "image/png": "[encoded data removed]",
      "text/plain": [
       "<Figure size 640x480 with 1 Axes>"
      ]
     },
     "metadata": {},
     "output_type": "display_data"
    }
   ],
   "source": [
    "plt.hist(model.resid, bins=30, density=True, alpha=0.6, color='skyblue', edgecolor='black') \n",
    "plt.title(\"Распределение остатков\", fontsize=16)\n",
    "plt.xlabel(\"Остатки\", fontsize=12) \n",
    "plt.ylabel(\"Плотность\", fontsize=12)\n",
    "\n",
    "# Параметры нормального распределения\n",
    "mu, std = np.mean(model.resid), np.std(model.resid)\n",
    "x = np.linspace(min(model.resid), max(model.resid), 100)\n",
    "p = norm.pdf(x, mu, std)\n",
    "\n",
    "plt.plot(x, p, 'r', linewidth=2, label=f'Нормальное распределение')\n",
    "plt.legend(fontsize=10)\n",
    "plt.grid(True, linestyle='--', alpha=0.5)\n",
    "plt.show()\n",
    "\n",
    "\n",
    "\n",
    "\n"
   ]
  },
  {
   "cell_type": "markdown",
   "metadata": {},
   "source": [
    "#### Проверка значимости уравнения регрессии и значимости коэффициентов"
   ]
  },
  {
   "cell_type": "code",
   "execution_count": 10,
   "metadata": {},
   "outputs": [
    {
     "name": "stdout",
     "output_type": "stream",
     "text": [
      "Уравнение значимо\n"
     ]
    }
   ],
   "source": [
    "f_pvalue = model.f_pvalue\n",
    "alpha = 0.05\n",
    "\n",
    "print(\"Уравнение значимо\" if f_pvalue < alpha else \"Уравнение незначимо\")"
   ]
  },
  {
   "cell_type": "code",
   "execution_count": 11,
   "metadata": {},
   "outputs": [
    {
     "name": "stdout",
     "output_type": "stream",
     "text": [
      "  Коэффициент  t-статистика   p-value Значимость\n",
      "0       const      4.153749  0.000086     значим\n",
      "1          X1     -4.892880  0.000006     значим\n",
      "2          X2     -1.379843  0.171735   незначим\n",
      "3          X3     -1.911691  0.059736   незначим\n",
      "4          X4     -0.873218  0.385332   незначим\n",
      "5          X5      3.578649  0.000610     значим\n",
      "6          X6      4.336442  0.000044     значим\n",
      "7          X7     -1.109468  0.270773   незначим\n",
      "8          X8     -0.689740  0.492486   незначим\n",
      "9          X9     -3.334075  0.001332     значим\n"
     ]
    },
    {
     "name": "stderr",
     "output_type": "stream",
     "text": [
      "C:\\Users\\admin\\AppData\\Local\\Temp\\ipykernel_19944\\1350848431.py:12: FutureWarning: Series.__getitem__ treating keys as positions is deprecated. In a future version, integer keys will always be treated as labels (consistent with DataFrame behavior). To access a value by position, use `ser.iloc[pos]`\n",
      "  'Значимость': ['значим' if abs(t_stat[i]) > t_kr and p_value[i] < alpha else 'незначим'\n"
     ]
    }
   ],
   "source": [
    "alpha = 0.05\n",
    "df = len(data) - len(variables[1:]) - 1\n",
    "t_kr = stats.t.ppf(1 - alpha/2, df)\n",
    "\n",
    "t_stat = model.tvalues\n",
    "p_value = model.pvalues\n",
    "\n",
    "results_st = pd.DataFrame({\n",
    "    'Коэффициент': t_stat.index,\n",
    "    't-статистика': t_stat.values,\n",
    "    'p-value': p_value.values,\n",
    "    'Значимость': ['значим' if abs(t_stat[i]) > t_kr and p_value[i] < alpha else 'незначим'\n",
    "                   for i in range(len(t_stat))]\n",
    "})\n",
    "\n",
    "print(results_st)"
   ]
  },
  {
   "cell_type": "markdown",
   "metadata": {},
   "source": [
    "#### Построение доверительных интервалов для значимых коэффициентов КЛМНР"
   ]
  },
  {
   "cell_type": "code",
   "execution_count": 12,
   "metadata": {},
   "outputs": [
    {
     "name": "stdout",
     "output_type": "stream",
     "text": [
      "51.5208 < b0 < 146.4805\n",
      "-7.5965 < b1 < -3.2005\n",
      "0.0031 < b5 < 0.0108\n",
      "0.0274 < b6 < 0.0739\n",
      "-0.0334 < b9 < -0.0084\n"
     ]
    }
   ],
   "source": [
    "signif = results_st[results_st['Значимость'] == 'значим']\n",
    "x_signif = signif['Коэффициент'].values  \n",
    "\n",
    "conf_int = model.conf_int().loc[x_signif]\n",
    "\n",
    "for var, (lower, upper) in zip(conf_int.index, conf_int.values):    \n",
    "    lower_rounded = round(lower, 4)\n",
    "    upper_rounded = round(upper, 4)\n",
    "    \n",
    "    if var == 'const':\n",
    "        print(f\"{lower_rounded} < b0 < {upper_rounded}\")\n",
    "    else:\n",
    "        coef_num = var[1:] \n",
    "        print(f\"{lower_rounded} < b{coef_num} < {upper_rounded}\")"
   ]
  },
  {
   "cell_type": "markdown",
   "metadata": {},
   "source": [
    "#### Проанализируем оценку матрицы парных коэффициентов корреляции между объясняющими признаками (для обнаружения мультиколлениарности)"
   ]
  },
  {
   "cell_type": "code",
   "execution_count": 13,
   "metadata": {},
   "outputs": [
    {
     "data": {
      "image/png": "[encoded data removed]",
      "text/plain": [
       "<Figure size 1000x1000 with 2 Axes>"
      ]
     },
     "metadata": {},
     "output_type": "display_data"
    }
   ],
   "source": [
    "plt.figure(figsize=(10, 10))\n",
    "corr_matrix = data[data.columns[2:]].corr()\n",
    "\n",
    "mask = np.triu(np.ones_like(corr_matrix, dtype=bool))\n",
    "heatmap = sns.heatmap(corr_matrix,\n",
    "                     annot=True,     \n",
    "                     fmt=\".2f\",     \n",
    "                     cmap='vlag',    \n",
    "                     center=0,        \n",
    "                     linewidths=0.5, \n",
    "                     linecolor='lightgray', \n",
    "                     square=True,    \n",
    "                     cbar_kws={\"shrink\": .8}, \n",
    "                     annot_kws={\"fontsize\": 10},\n",
    "                     mask=mask) \n",
    "\n",
    "\n",
    "plt.title('Матрица корреляции', fontsize=18) \n",
    "plt.xticks(rotation=45, ha='right', fontsize=12) \n",
    "plt.yticks(rotation=0, fontsize=12)\n",
    "plt.show()\n"
   ]
  },
  {
   "cell_type": "markdown",
   "metadata": {},
   "source": [
    "#### Коэффициенты корреляции, превышающие 0.5 по абсолютной величине, указывают на возможную мультиколлинеарность в данных"
   ]
  },
  {
   "cell_type": "code",
   "execution_count": 14,
   "metadata": {},
   "outputs": [
    {
     "name": "stdout",
     "output_type": "stream",
     "text": [
      "Мультиколлениарность:\n",
      "X1  X6   -0.532733\n",
      "X6  X1   -0.532733\n",
      "dtype: float64\n"
     ]
    }
   ],
   "source": [
    "cor = 0.5\n",
    "multicol = (corr_matrix.abs() > cor) & (corr_matrix < 1)\n",
    "\n",
    "print(\"Мультиколлениарность:\")\n",
    "print(corr_matrix[multicol].stack())"
   ]
  },
  {
   "cell_type": "markdown",
   "metadata": {},
   "source": [
    "#### Рассчитаем значения коэффициентов детерминации каждой из объясняющих переменных по всем остальным переменным"
   ]
  },
  {
   "cell_type": "code",
   "execution_count": 15,
   "metadata": {},
   "outputs": [
    {
     "name": "stdout",
     "output_type": "stream",
     "text": [
      "R² для X1 на основе остальных переменных: 0.5985\n",
      "R² для X2 на основе остальных переменных: 0.6502\n",
      "R² для X3 на основе остальных переменных: 0.2869\n",
      "R² для X4 на основе остальных переменных: 0.6790\n",
      "R² для X5 на основе остальных переменных: 0.1987\n",
      "R² для X6 на основе остальных переменных: 0.4765\n",
      "R² для X7 на основе остальных переменных: 0.1139\n",
      "R² для X8 на основе остальных переменных: 0.2977\n",
      "R² для X9 на основе остальных переменных: 0.1124\n"
     ]
    }
   ],
   "source": [
    "r_2 = {}\n",
    "X = data[data.columns[2:11]]\n",
    "for col in X.columns:\n",
    "    target_x = X[col]  \n",
    "    other_x = X.drop(columns=[col])  \n",
    "    other_x = sm.add_constant(other_x)  \n",
    "    model_r2 = sm.OLS(target_x, other_x).fit()  \n",
    "    r_2[col] = model_r2.rsquared \n",
    "\n",
    "for var, r2 in r_2.items():\n",
    "    print(f\"R² для {var} на основе остальных переменных: {r2:.4f}\")"
   ]
  },
  {
   "cell_type": "code",
   "execution_count": 16,
   "metadata": {},
   "outputs": [
    {
     "name": "stdout",
     "output_type": "stream",
     "text": [
      "Анализ коэффициентов детерминации показал наличие сильной линейной связи между переменными X1, X2, X4 и всеми остальными признаками\n"
     ]
    }
   ],
   "source": [
    "multicol_r2 = {var: r2 for var, r2 in r_2.items() if r2 > 0.55}\n",
    "\n",
    "vars_str = \", \".join(multicol_r2.keys()) \n",
    "print(f\"Анализ коэффициентов детерминации показал наличие сильной линейной связи между переменными {vars_str} и всеми остальными признаками\")"
   ]
  },
  {
   "cell_type": "markdown",
   "metadata": {},
   "source": [
    "#### Коэффициент инфляции дисперсии"
   ]
  },
  {
   "cell_type": "code",
   "execution_count": 17,
   "metadata": {},
   "outputs": [
    {
     "data": {
      "application/vnd.microsoft.datawrangler.viewer.v0+json": {
       "columns": [
        {
         "name": "index",
         "rawType": "int64",
         "type": "integer"
        },
        {
         "name": "X",
         "rawType": "object",
         "type": "string"
        },
        {
         "name": "VIF",
         "rawType": "float64",
         "type": "float"
        }
       ],
       "conversionMethod": "pd.DataFrame",
       "ref": "5d13443d-2c6e-4032-b2e0-3a5601a06ef3",
       "rows": [
        [
         "0",
         "X1",
         "2.49"
        ],
        [
         "1",
         "X2",
         "2.86"
        ],
        [
         "2",
         "X3",
         "1.4"
        ],
        [
         "3",
         "X4",
         "3.11"
        ],
        [
         "4",
         "X5",
         "1.25"
        ],
        [
         "5",
         "X6",
         "1.91"
        ],
        [
         "6",
         "X7",
         "1.13"
        ],
        [
         "7",
         "X8",
         "1.42"
        ],
        [
         "8",
         "X9",
         "1.13"
        ]
       ],
       "shape": {
        "columns": 2,
        "rows": 9
       }
      },
      "text/html": [
       "<div>\n",
       "<style scoped>\n",
       "    .dataframe tbody tr th:only-of-type {\n",
       "        vertical-align: middle;\n",
       "    }\n",
       "\n",
       "    .dataframe tbody tr th {\n",
       "        vertical-align: top;\n",
       "    }\n",
       "\n",
       "    .dataframe thead th {\n",
       "        text-align: right;\n",
       "    }\n",
       "</style>\n",
       "<table border=\"1\" class=\"dataframe\">\n",
       "  <thead>\n",
       "    <tr style=\"text-align: right;\">\n",
       "      <th></th>\n",
       "      <th>X</th>\n",
       "      <th>VIF</th>\n",
       "    </tr>\n",
       "  </thead>\n",
       "  <tbody>\n",
       "    <tr>\n",
       "      <th>0</th>\n",
       "      <td>X1</td>\n",
       "      <td>2.49</td>\n",
       "    </tr>\n",
       "    <tr>\n",
       "      <th>1</th>\n",
       "      <td>X2</td>\n",
       "      <td>2.86</td>\n",
       "    </tr>\n",
       "    <tr>\n",
       "      <th>2</th>\n",
       "      <td>X3</td>\n",
       "      <td>1.40</td>\n",
       "    </tr>\n",
       "    <tr>\n",
       "      <th>3</th>\n",
       "      <td>X4</td>\n",
       "      <td>3.11</td>\n",
       "    </tr>\n",
       "    <tr>\n",
       "      <th>4</th>\n",
       "      <td>X5</td>\n",
       "      <td>1.25</td>\n",
       "    </tr>\n",
       "    <tr>\n",
       "      <th>5</th>\n",
       "      <td>X6</td>\n",
       "      <td>1.91</td>\n",
       "    </tr>\n",
       "    <tr>\n",
       "      <th>6</th>\n",
       "      <td>X7</td>\n",
       "      <td>1.13</td>\n",
       "    </tr>\n",
       "    <tr>\n",
       "      <th>7</th>\n",
       "      <td>X8</td>\n",
       "      <td>1.42</td>\n",
       "    </tr>\n",
       "    <tr>\n",
       "      <th>8</th>\n",
       "      <td>X9</td>\n",
       "      <td>1.13</td>\n",
       "    </tr>\n",
       "  </tbody>\n",
       "</table>\n",
       "</div>"
      ],
      "text/plain": [
       "    X   VIF\n",
       "0  X1  2.49\n",
       "1  X2  2.86\n",
       "2  X3  1.40\n",
       "3  X4  3.11\n",
       "4  X5  1.25\n",
       "5  X6  1.91\n",
       "6  X7  1.13\n",
       "7  X8  1.42\n",
       "8  X9  1.13"
      ]
     },
     "execution_count": 17,
     "metadata": {},
     "output_type": "execute_result"
    }
   ],
   "source": [
    "name = []\n",
    "vif = []\n",
    "VIF = pd.DataFrame()\n",
    "for var, r2 in r_2.items():\n",
    "    VIFi = round(1/(1-r2),2)\n",
    "    name.append(var)\n",
    "    vif.append(VIFi)\n",
    "VIF['X'] = pd.DataFrame(name)\n",
    "VIF['VIF'] = pd.DataFrame(vif)\n",
    "VIF"
   ]
  },
  {
   "cell_type": "markdown",
   "metadata": {},
   "source": [
    "#### Устранение мультиколлинеарности методом пошаговой регрессии с включением и исключением переменных:"
   ]
  },
  {
   "cell_type": "code",
   "execution_count": 18,
   "metadata": {},
   "outputs": [
    {
     "name": "stderr",
     "output_type": "stream",
     "text": [
      "C:\\Users\\admin\\AppData\\Local\\Temp\\ipykernel_19944\\359863354.py:23: FutureWarning: The behavior of DataFrame concatenation with empty or all-NA entries is deprecated. In a future version, this will no longer exclude empty or all-NA columns when determining the result dtypes. To retain the old behavior, exclude the relevant entries before the concat operation.\n",
      "  table = pd.concat([table, new_row], ignore_index=True)\n"
     ]
    },
    {
     "name": "stdout",
     "output_type": "stream",
     "text": [
      "                                           модель     adjR2  n\n",
      "0                                          Y = X6  0.504585  1\n",
      "1                                     Y = X6 + X1  0.603922  2\n",
      "2                                Y = X6 + X1 + X5  0.681622  3\n",
      "3                           Y = X6 + X1 + X5 + X9  0.708336  4\n",
      "4                      Y = X6 + X1 + X5 + X9 + X4  0.720682  5\n",
      "5                 Y = X6 + X1 + X5 + X9 + X4 + X3  0.723773  6\n",
      "6            Y = X6 + X1 + X5 + X9 + X4 + X3 + X2  0.725166  7\n",
      "7       Y = X6 + X1 + X5 + X9 + X4 + X3 + X2 + X7  0.725657  8\n",
      "8  Y = X6 + X1 + X5 + X9 + X4 + X3 + X2 + X7 + X8  0.723751  9\n"
     ]
    }
   ],
   "source": [
    "# включение переменных \n",
    "def step_forward(file): \n",
    "    all_vars = list(file.columns[2:])\n",
    "    selected_vars = []\n",
    "    table = pd.DataFrame(columns=['модель', 'adjR2', 'n'])\n",
    "\n",
    "    while all_vars:\n",
    "        best_var = None\n",
    "        adjr2 = 0\n",
    "        for var in all_vars:\n",
    "            X = sm.add_constant(file[selected_vars + [var]])\n",
    "            Y = file['Y']\n",
    "            model = sm.OLS(Y,X).fit()\n",
    "            if adjr2 < model.rsquared_adj:\n",
    "                adjr2 = model.rsquared_adj\n",
    "                best_var = var \n",
    "        \n",
    "        selected_vars.append(best_var)\n",
    "        all_vars.remove(best_var)\n",
    "        equation_string = \" + \".join(selected_vars)\n",
    "        row_data = [f'Y = {equation_string}', adjr2, len(selected_vars)]\n",
    "        new_row = pd.DataFrame([row_data], columns=['модель', 'adjR2', 'n'])\n",
    "        table = pd.concat([table, new_row], ignore_index=True)\n",
    "\n",
    "    return table\n",
    "\n",
    "print(step_forward(data))"
   ]
  },
  {
   "cell_type": "code",
   "execution_count": 19,
   "metadata": {},
   "outputs": [
    {
     "name": "stderr",
     "output_type": "stream",
     "text": [
      "C:\\Users\\admin\\AppData\\Local\\Temp\\ipykernel_19944\\1315235400.py:24: FutureWarning: The behavior of DataFrame concatenation with empty or all-NA entries is deprecated. In a future version, this will no longer exclude empty or all-NA columns when determining the result dtypes. To retain the old behavior, exclude the relevant entries before the concat operation.\n",
      "  table = pd.concat([table, new_row], ignore_index=True)\n"
     ]
    },
    {
     "name": "stdout",
     "output_type": "stream",
     "text": [
      "                                      модель     adjR2  n\n",
      "0  Y = X1 + X2 + X3 + X4 + X5 + X6 + X7 + X9  0.725657  8\n",
      "1       Y = X1 + X2 + X3 + X5 + X6 + X7 + X9  0.727217  7\n",
      "2            Y = X1 + X2 + X3 + X5 + X6 + X9  0.726639  6\n",
      "3                 Y = X1 + X2 + X5 + X6 + X9  0.713215  5\n",
      "4                      Y = X1 + X5 + X6 + X9  0.708336  4\n",
      "5                           Y = X1 + X5 + X6  0.681622  3\n",
      "6                                Y = X1 + X6  0.603922  2\n",
      "7                                     Y = X6  0.504585  1\n"
     ]
    }
   ],
   "source": [
    "# исключение переменных\n",
    "def step_backward(file): \n",
    "    all_vars = list(file.columns[2:])\n",
    "    table = pd.DataFrame(columns=['модель', 'adjR2', 'n'])\n",
    "\n",
    "    while len(all_vars) != 1:\n",
    "        worst_var = None\n",
    "        adjr2 = -1\n",
    "        for var in all_vars:\n",
    "            selected_vars = all_vars.copy()\n",
    "            selected_vars.remove(var)\n",
    "            X = sm.add_constant(file[selected_vars])\n",
    "            Y = file['Y']\n",
    "            model = sm.OLS(Y,X).fit()\n",
    "            if adjr2 < model.rsquared_adj:\n",
    "                adjr2 = model.rsquared_adj\n",
    "                worst_var = var\n",
    "        \n",
    "        all_vars.remove(worst_var)\n",
    "\n",
    "        equation_string = \" + \".join(all_vars)\n",
    "        row_data = [f'Y = {equation_string}', adjr2, len(all_vars)]\n",
    "        new_row = pd.DataFrame([row_data], columns=['модель', 'adjR2', 'n'])\n",
    "        table = pd.concat([table, new_row], ignore_index=True)\n",
    "\n",
    "    return table\n",
    "\n",
    "print(step_backward(data))\n",
    "            "
   ]
  },
  {
   "cell_type": "markdown",
   "metadata": {},
   "source": [
    "Проведенный анализ выявил, что переменная **X4 (продажи алкогольной продукции)** демонстрирует:\n",
    "- Наибольшую степень зависимости от других факторов модели (**R² = 0.679**)\n",
    "- Повышенный показатель мультиколлинеарности (**VIF = 3.11**)\n",
    "- Умеренные корреляционные связи с ключевыми предикторами **X1 (0.43), X2 (0.48) и X6 (0.46)**\n",
    "\n",
    "Эти факторы, в совокупности с анализом остальных статистических показателей, послужили основанием для исключения **X4** из финальной модели.\n",
    "\n",
    "Дополнительно, переменные **X2(доход) и X7(размер пенсий)** были исключены из-за их нелогичного отрицательного знака в модели, что противоречит экономической интерпретации. Ожидалось, что эти факторы должны положительно влиять на продолжительность жизни, однако оценки коэффициентов указывали на обратное.\n",
    "\n",
    "Что касается взаимосвязи между **X1 (коэффициент смертности)** и **X6 (нагрузка на больничные койки)**:\n",
    "- Умеренная корреляция (**0.53**) находится в допустимых пределах\n",
    "- Показатели **VIF** для этих переменных соответствуют норме\n",
    "- Оба фактора демонстрируют содержательную значимость для модели\n",
    "\n",
    "На основании комплексного анализа:\n",
    "- Сравнения показателей **adjR²** во всех тестируемых моделях\n",
    "- Оценки статистической значимости предикторов\n",
    "- Анализа мультиколлинеарности\n",
    "- Содержательной интерпретируемости переменных\n",
    "\n",
    "**Оптимальной** была признана модель:\n",
    "**Y = X1 + X3 + X5 + X6 + X9**\n",
    "\n",
    "Данная спецификация:\n",
    "1. Демонстрирует **максимальную объясняющую способность**\n",
    "2. Сохраняет **стабильность оценок** за счет контроля мультиколлинеарности\n",
    "3. Включает **все значимые факторы**\n"
   ]
  },
  {
   "cell_type": "markdown",
   "metadata": {},
   "source": [
    "#### Построение новой модели "
   ]
  },
  {
   "cell_type": "code",
   "execution_count": 20,
   "metadata": {},
   "outputs": [
    {
     "data": {
      "application/vnd.microsoft.datawrangler.viewer.v0+json": {
       "columns": [
        {
         "name": "index",
         "rawType": "int64",
         "type": "integer"
        },
        {
         "name": "Наименование",
         "rawType": "object",
         "type": "string"
        },
        {
         "name": "Y",
         "rawType": "float64",
         "type": "float"
        },
        {
         "name": "X1",
         "rawType": "float64",
         "type": "float"
        },
        {
         "name": "X3",
         "rawType": "float64",
         "type": "float"
        },
        {
         "name": "X5",
         "rawType": "int64",
         "type": "integer"
        },
        {
         "name": "X6",
         "rawType": "float64",
         "type": "float"
        },
        {
         "name": "X9",
         "rawType": "float64",
         "type": "float"
        }
       ],
       "conversionMethod": "pd.DataFrame",
       "ref": "40000c9d-c000-4aa9-bbee-8331a44fc478",
       "rows": [
        [
         "0",
         "Алтайский край",
         "64.5",
         "1.43629745189808",
         "48.9",
         "245",
         "104.42",
         "102.25499929088072"
        ],
        [
         "1",
         "Амурская область",
         "62.3",
         "1.409012131715771",
         "49.7",
         "204",
         "107.54",
         "122.91694440741234"
        ],
        [
         "2",
         "Архангельская область без автономного округа",
         "65.52",
         "1.4236241891609123",
         "55.8",
         "186",
         "108.79",
         "57.438794726930325"
        ],
        [
         "3",
         "Астраханская область",
         "66.8",
         "1.1804733727810652",
         "47.6",
         "298",
         "119.02",
         "58.4319526627219"
        ],
        [
         "4",
         "Белгородская область",
         "68.16",
         "1.3435729992670087",
         "43.5",
         "321",
         "140.0",
         "103.4850403145199"
        ]
       ],
       "shape": {
        "columns": 7,
        "rows": 5
       }
      },
      "text/html": [
       "<div>\n",
       "<style scoped>\n",
       "    .dataframe tbody tr th:only-of-type {\n",
       "        vertical-align: middle;\n",
       "    }\n",
       "\n",
       "    .dataframe tbody tr th {\n",
       "        vertical-align: top;\n",
       "    }\n",
       "\n",
       "    .dataframe thead th {\n",
       "        text-align: right;\n",
       "    }\n",
       "</style>\n",
       "<table border=\"1\" class=\"dataframe\">\n",
       "  <thead>\n",
       "    <tr style=\"text-align: right;\">\n",
       "      <th></th>\n",
       "      <th>Наименование</th>\n",
       "      <th>Y</th>\n",
       "      <th>X1</th>\n",
       "      <th>X3</th>\n",
       "      <th>X5</th>\n",
       "      <th>X6</th>\n",
       "      <th>X9</th>\n",
       "    </tr>\n",
       "  </thead>\n",
       "  <tbody>\n",
       "    <tr>\n",
       "      <th>0</th>\n",
       "      <td>Алтайский край</td>\n",
       "      <td>64.50</td>\n",
       "      <td>1.436297</td>\n",
       "      <td>48.9</td>\n",
       "      <td>245</td>\n",
       "      <td>104.42</td>\n",
       "      <td>102.254999</td>\n",
       "    </tr>\n",
       "    <tr>\n",
       "      <th>1</th>\n",
       "      <td>Амурская область</td>\n",
       "      <td>62.30</td>\n",
       "      <td>1.409012</td>\n",
       "      <td>49.7</td>\n",
       "      <td>204</td>\n",
       "      <td>107.54</td>\n",
       "      <td>122.916944</td>\n",
       "    </tr>\n",
       "    <tr>\n",
       "      <th>2</th>\n",
       "      <td>Архангельская область без автономного округа</td>\n",
       "      <td>65.52</td>\n",
       "      <td>1.423624</td>\n",
       "      <td>55.8</td>\n",
       "      <td>186</td>\n",
       "      <td>108.79</td>\n",
       "      <td>57.438795</td>\n",
       "    </tr>\n",
       "    <tr>\n",
       "      <th>3</th>\n",
       "      <td>Астраханская область</td>\n",
       "      <td>66.80</td>\n",
       "      <td>1.180473</td>\n",
       "      <td>47.6</td>\n",
       "      <td>298</td>\n",
       "      <td>119.02</td>\n",
       "      <td>58.431953</td>\n",
       "    </tr>\n",
       "    <tr>\n",
       "      <th>4</th>\n",
       "      <td>Белгородская область</td>\n",
       "      <td>68.16</td>\n",
       "      <td>1.343573</td>\n",
       "      <td>43.5</td>\n",
       "      <td>321</td>\n",
       "      <td>140.00</td>\n",
       "      <td>103.485040</td>\n",
       "    </tr>\n",
       "  </tbody>\n",
       "</table>\n",
       "</div>"
      ],
      "text/plain": [
       "                                   Наименование      Y        X1    X3   X5  \\\n",
       "0                                Алтайский край  64.50  1.436297  48.9  245   \n",
       "1                              Амурская область  62.30  1.409012  49.7  204   \n",
       "2  Архангельская область без автономного округа  65.52  1.423624  55.8  186   \n",
       "3                          Астраханская область  66.80  1.180473  47.6  298   \n",
       "4                          Белгородская область  68.16  1.343573  43.5  321   \n",
       "\n",
       "       X6          X9  \n",
       "0  104.42  102.254999  \n",
       "1  107.54  122.916944  \n",
       "2  108.79   57.438795  \n",
       "3  119.02   58.431953  \n",
       "4  140.00  103.485040  "
      ]
     },
     "execution_count": 20,
     "metadata": {},
     "output_type": "execute_result"
    }
   ],
   "source": [
    "new_data = data.drop(['X2', 'X4','X7', 'X8'], axis=1)\n",
    "new_data.head()"
   ]
  },
  {
   "cell_type": "code",
   "execution_count": 21,
   "metadata": {},
   "outputs": [
    {
     "name": "stdout",
     "output_type": "stream",
     "text": [
      "                            OLS Regression Results                            \n",
      "==============================================================================\n",
      "Dep. Variable:                      Y   R-squared:                       0.729\n",
      "Model:                            OLS   Adj. R-squared:                  0.712\n",
      "Method:                 Least Squares   F-statistic:                     42.60\n",
      "Date:                Sun, 20 Apr 2025   Prob (F-statistic):           4.63e-21\n",
      "Time:                        11:21:21   Log-Likelihood:                -170.56\n",
      "No. Observations:                  85   AIC:                             353.1\n",
      "Df Residuals:                      79   BIC:                             367.8\n",
      "Df Model:                           5                                         \n",
      "Covariance Type:            nonrobust                                         \n",
      "==============================================================================\n",
      "                 coef    std err          t      P>|t|      [0.025      0.975]\n",
      "------------------------------------------------------------------------------\n",
      "const         66.7609      2.575     25.927      0.000      61.636      71.886\n",
      "X1            -5.1336      0.865     -5.932      0.000      -6.856      -3.411\n",
      "X3            -0.0445      0.031     -1.452      0.150      -0.106       0.017\n",
      "X5             0.0083      0.002      4.609      0.000       0.005       0.012\n",
      "X6             0.0647      0.011      6.117      0.000       0.044       0.086\n",
      "X9            -0.0183      0.006     -2.932      0.004      -0.031      -0.006\n",
      "==============================================================================\n",
      "Omnibus:                       10.941   Durbin-Watson:                   2.214\n",
      "Prob(Omnibus):                  0.004   Jarque-Bera (JB):               13.520\n",
      "Skew:                          -0.620   Prob(JB):                      0.00116\n",
      "Kurtosis:                       4.509   Cond. No.                     3.94e+03\n",
      "==============================================================================\n",
      "\n",
      "Notes:\n",
      "[1] Standard Errors assume that the covariance matrix of the errors is correctly specified.\n",
      "[2] The condition number is large, 3.94e+03. This might indicate that there are\n",
      "strong multicollinearity or other numerical problems.\n"
     ]
    }
   ],
   "source": [
    "X = new_data[new_data.columns[2:]]\n",
    "Y = new_data['Y']\n",
    "X = sm.add_constant(X)\n",
    "\n",
    "new_model = sm.OLS(Y,X).fit()\n",
    "new_summary = new_model.summary()\n",
    "print(new_summary)"
   ]
  },
  {
   "cell_type": "code",
   "execution_count": 22,
   "metadata": {},
   "outputs": [
    {
     "name": "stdout",
     "output_type": "stream",
     "text": [
      "Новое уравнение регрессии:\n",
      "Y = 66.7609 - 5.133645*X1 - 0.044550*X3 + 0.008276*X5 + 0.064747*X6 - 0.018266*X9\n"
     ]
    }
   ],
   "source": [
    "new_coefficients = pd.DataFrame(new_model.params)\n",
    "\n",
    "new_equation = f\"Y = {new_coefficients.loc['const',0]:.4f}\"\n",
    "\n",
    "for name, coef in new_coefficients[1:].iterrows():\n",
    "    x = name\n",
    "    i = coef[0]\n",
    "    sign = \"+\" if i >= 0 else \"-\"\n",
    "    new_equation += f\" {sign} {abs(i):.6f}*{x}\"\n",
    "\n",
    "\n",
    "print(\"Новое уравнение регрессии:\")\n",
    "print(new_equation)"
   ]
  },
  {
   "cell_type": "markdown",
   "metadata": {},
   "source": [
    "#### Исследуем регрессионные остатки на наличие/отсутствие гетероскедастичности\n",
    "##### Для этого построим графики зависимости модулей остатков от упорядоченных по возрастанию значений той объясняющей переменной, вариацией которой возможно порождается гетероскедастичность"
   ]
  },
  {
   "cell_type": "code",
   "execution_count": 23,
   "metadata": {},
   "outputs": [
    {
     "data": {
      "application/vnd.microsoft.datawrangler.viewer.v0+json": {
       "columns": [
        {
         "name": "index",
         "rawType": "int64",
         "type": "integer"
        },
        {
         "name": "Наименование",
         "rawType": "object",
         "type": "string"
        },
        {
         "name": "Y",
         "rawType": "float64",
         "type": "float"
        },
        {
         "name": "X1",
         "rawType": "float64",
         "type": "float"
        },
        {
         "name": "X3",
         "rawType": "float64",
         "type": "float"
        },
        {
         "name": "X5",
         "rawType": "int64",
         "type": "integer"
        },
        {
         "name": "X6",
         "rawType": "float64",
         "type": "float"
        },
        {
         "name": "X9",
         "rawType": "float64",
         "type": "float"
        },
        {
         "name": "residuals",
         "rawType": "float64",
         "type": "float"
        }
       ],
       "conversionMethod": "pd.DataFrame",
       "ref": "82984d4a-1c19-4336-99ce-e203dfafbe2f",
       "rows": [
        [
         "0",
         "Алтайский край",
         "64.5",
         "1.43629745189808",
         "48.9",
         "245",
         "104.42",
         "102.25499929088072",
         "0.37020303982436076"
        ],
        [
         "1",
         "Амурская область",
         "62.3",
         "1.409012131715771",
         "49.7",
         "204",
         "107.54",
         "122.91694440741234",
         "1.4194989837133818"
        ],
        [
         "2",
         "Архангельская область без автономного округа",
         "65.52",
         "1.4236241891609123",
         "55.8",
         "186",
         "108.79",
         "57.438794726930325",
         "1.0192833321646333"
        ],
        [
         "3",
         "Астраханская область",
         "66.8",
         "1.1804733727810652",
         "47.6",
         "298",
         "119.02",
         "58.4319526627219",
         "0.8854504841657302"
        ],
        [
         "4",
         "Белгородская область",
         "68.16",
         "1.3435729992670087",
         "43.5",
         "321",
         "140.0",
         "103.4850403145199",
         "0.4033794902905896"
        ]
       ],
       "shape": {
        "columns": 8,
        "rows": 5
       }
      },
      "text/html": [
       "<div>\n",
       "<style scoped>\n",
       "    .dataframe tbody tr th:only-of-type {\n",
       "        vertical-align: middle;\n",
       "    }\n",
       "\n",
       "    .dataframe tbody tr th {\n",
       "        vertical-align: top;\n",
       "    }\n",
       "\n",
       "    .dataframe thead th {\n",
       "        text-align: right;\n",
       "    }\n",
       "</style>\n",
       "<table border=\"1\" class=\"dataframe\">\n",
       "  <thead>\n",
       "    <tr style=\"text-align: right;\">\n",
       "      <th></th>\n",
       "      <th>Наименование</th>\n",
       "      <th>Y</th>\n",
       "      <th>X1</th>\n",
       "      <th>X3</th>\n",
       "      <th>X5</th>\n",
       "      <th>X6</th>\n",
       "      <th>X9</th>\n",
       "      <th>residuals</th>\n",
       "    </tr>\n",
       "  </thead>\n",
       "  <tbody>\n",
       "    <tr>\n",
       "      <th>0</th>\n",
       "      <td>Алтайский край</td>\n",
       "      <td>64.50</td>\n",
       "      <td>1.436297</td>\n",
       "      <td>48.9</td>\n",
       "      <td>245</td>\n",
       "      <td>104.42</td>\n",
       "      <td>102.254999</td>\n",
       "      <td>0.370203</td>\n",
       "    </tr>\n",
       "    <tr>\n",
       "      <th>1</th>\n",
       "      <td>Амурская область</td>\n",
       "      <td>62.30</td>\n",
       "      <td>1.409012</td>\n",
       "      <td>49.7</td>\n",
       "      <td>204</td>\n",
       "      <td>107.54</td>\n",
       "      <td>122.916944</td>\n",
       "      <td>1.419499</td>\n",
       "    </tr>\n",
       "    <tr>\n",
       "      <th>2</th>\n",
       "      <td>Архангельская область без автономного округа</td>\n",
       "      <td>65.52</td>\n",
       "      <td>1.423624</td>\n",
       "      <td>55.8</td>\n",
       "      <td>186</td>\n",
       "      <td>108.79</td>\n",
       "      <td>57.438795</td>\n",
       "      <td>1.019283</td>\n",
       "    </tr>\n",
       "    <tr>\n",
       "      <th>3</th>\n",
       "      <td>Астраханская область</td>\n",
       "      <td>66.80</td>\n",
       "      <td>1.180473</td>\n",
       "      <td>47.6</td>\n",
       "      <td>298</td>\n",
       "      <td>119.02</td>\n",
       "      <td>58.431953</td>\n",
       "      <td>0.885450</td>\n",
       "    </tr>\n",
       "    <tr>\n",
       "      <th>4</th>\n",
       "      <td>Белгородская область</td>\n",
       "      <td>68.16</td>\n",
       "      <td>1.343573</td>\n",
       "      <td>43.5</td>\n",
       "      <td>321</td>\n",
       "      <td>140.00</td>\n",
       "      <td>103.485040</td>\n",
       "      <td>0.403379</td>\n",
       "    </tr>\n",
       "  </tbody>\n",
       "</table>\n",
       "</div>"
      ],
      "text/plain": [
       "                                   Наименование      Y        X1    X3   X5  \\\n",
       "0                                Алтайский край  64.50  1.436297  48.9  245   \n",
       "1                              Амурская область  62.30  1.409012  49.7  204   \n",
       "2  Архангельская область без автономного округа  65.52  1.423624  55.8  186   \n",
       "3                          Астраханская область  66.80  1.180473  47.6  298   \n",
       "4                          Белгородская область  68.16  1.343573  43.5  321   \n",
       "\n",
       "       X6          X9  residuals  \n",
       "0  104.42  102.254999   0.370203  \n",
       "1  107.54  122.916944   1.419499  \n",
       "2  108.79   57.438795   1.019283  \n",
       "3  119.02   58.431953   0.885450  \n",
       "4  140.00  103.485040   0.403379  "
      ]
     },
     "execution_count": 23,
     "metadata": {},
     "output_type": "execute_result"
    }
   ],
   "source": [
    "residuals = np.array(new_model.resid)\n",
    "new_data['residuals'] = abs(residuals)\n",
    "new_data.head()"
   ]
  },
  {
   "cell_type": "code",
   "execution_count": 24,
   "metadata": {},
   "outputs": [
    {
     "data": {
      "image/png": "[encoded data removed]",
      "text/plain": [
       "<Figure size 640x480 with 1 Axes>"
      ]
     },
     "metadata": {},
     "output_type": "display_data"
    },
    {
     "data": {
      "image/png": "[encoded data removed]",
      "text/plain": [
       "<Figure size 640x480 with 1 Axes>"
      ]
     },
     "metadata": {},
     "output_type": "display_data"
    },
    {
     "data": {
      "image/png": "[encoded data removed]",
      "text/plain": [
       "<Figure size 640x480 with 1 Axes>"
      ]
     },
     "metadata": {},
     "output_type": "display_data"
    },
    {
     "data": {
      "image/png": "[encoded data removed]",
      "text/plain": [
       "<Figure size 640x480 with 1 Axes>"
      ]
     },
     "metadata": {},
     "output_type": "display_data"
    },
    {
     "data": {
      "image/png": "[encoded data removed]",
      "text/plain": [
       "<Figure size 640x480 with 1 Axes>"
      ]
     },
     "metadata": {},
     "output_type": "display_data"
    }
   ],
   "source": [
    "def graph(file, Xj, column_name):\n",
    "   df = pd.DataFrame()\n",
    "   df['Xj'] = Xj \n",
    "   df['e'] = file['residuals']\n",
    "   df = df.sort_values(by='Xj')\n",
    "   \n",
    "\n",
    "   z = np.polyfit(df['Xj'], df['e'], 1) \n",
    "   p = np.poly1d(z)\n",
    "   plt.plot(df['Xj'], p(df['Xj']), \"r--\", label=\"Trend Line\")\n",
    "   plt.scatter(df['Xj'], df['e'], label=\"Residuals\")\n",
    "   plt.xlabel(column_name)\n",
    "   plt.ylabel(\"Residuals\")\n",
    "   plt.title(f\"Residuals vs. {column_name}\")\n",
    "   plt.legend() \n",
    "\n",
    "   return(plt.plot(df['Xj'], df['e']))\n",
    "   \n",
    "for i in new_data.columns[2:7]:\n",
    "   plt.show(graph(new_data, new_data[i], i))\n"
   ]
  },
  {
   "cell_type": "markdown",
   "metadata": {},
   "source": [
    "##### На некоторых рисунках видно, что модули регрессионных остатков имеют тенденцию к снижению при увеличении значений объясняющей переменной. Следовательно, можно заподозрить гетероскедастичность по переменной X1, X3, X5"
   ]
  },
  {
   "cell_type": "markdown",
   "metadata": {},
   "source": [
    "#### Проведем тест ранговой корреляции Спирмена"
   ]
  },
  {
   "cell_type": "code",
   "execution_count": 25,
   "metadata": {},
   "outputs": [
    {
     "name": "stderr",
     "output_type": "stream",
     "text": [
      "C:\\Users\\admin\\AppData\\Local\\Temp\\ipykernel_19944\\3035182511.py:13: FutureWarning: The behavior of DataFrame concatenation with empty or all-NA entries is deprecated. In a future version, this will no longer exclude empty or all-NA columns when determining the result dtypes. To retain the old behavior, exclude the relevant entries before the concat operation.\n",
      "  spearman = pd.concat([spearman, pd.DataFrame([new_row], index=[f'{x} & |e|'])], ignore_index=False)\n"
     ]
    },
    {
     "data": {
      "application/vnd.microsoft.datawrangler.viewer.v0+json": {
       "columns": [
        {
         "name": "index",
         "rawType": "object",
         "type": "string"
        },
        {
         "name": "rho",
         "rawType": "float64",
         "type": "float"
        },
        {
         "name": "pvalue",
         "rawType": "float64",
         "type": "float"
        },
        {
         "name": "hypothesis",
         "rawType": "object",
         "type": "string"
        }
       ],
       "conversionMethod": "pd.DataFrame",
       "ref": "a61024a7-742f-4e43-97a3-225cf9c60517",
       "rows": [
        [
         "X1 & |e|",
         "-0.29925737736955244",
         "0.005398674810947424",
         "есть гетерос."
        ],
        [
         "X3 & |e|",
         "0.031114412009241633",
         "0.7774207831313522",
         "нет гетерос."
        ],
        [
         "X5 & |e|",
         "-0.2966697938476374",
         "0.005833019500433797",
         "есть гетерос."
        ],
        [
         "X6 & |e|",
         "-0.14340433847957787",
         "0.19042404220542722",
         "нет гетерос."
        ],
        [
         "X9 & |e|",
         "0.07545436779362907",
         "0.4925024343994048",
         "нет гетерос."
        ]
       ],
       "shape": {
        "columns": 3,
        "rows": 5
       }
      },
      "text/html": [
       "<div>\n",
       "<style scoped>\n",
       "    .dataframe tbody tr th:only-of-type {\n",
       "        vertical-align: middle;\n",
       "    }\n",
       "\n",
       "    .dataframe tbody tr th {\n",
       "        vertical-align: top;\n",
       "    }\n",
       "\n",
       "    .dataframe thead th {\n",
       "        text-align: right;\n",
       "    }\n",
       "</style>\n",
       "<table border=\"1\" class=\"dataframe\">\n",
       "  <thead>\n",
       "    <tr style=\"text-align: right;\">\n",
       "      <th></th>\n",
       "      <th>rho</th>\n",
       "      <th>pvalue</th>\n",
       "      <th>hypothesis</th>\n",
       "    </tr>\n",
       "  </thead>\n",
       "  <tbody>\n",
       "    <tr>\n",
       "      <th>X1 &amp; |e|</th>\n",
       "      <td>-0.299257</td>\n",
       "      <td>0.005399</td>\n",
       "      <td>есть гетерос.</td>\n",
       "    </tr>\n",
       "    <tr>\n",
       "      <th>X3 &amp; |e|</th>\n",
       "      <td>0.031114</td>\n",
       "      <td>0.777421</td>\n",
       "      <td>нет гетерос.</td>\n",
       "    </tr>\n",
       "    <tr>\n",
       "      <th>X5 &amp; |e|</th>\n",
       "      <td>-0.296670</td>\n",
       "      <td>0.005833</td>\n",
       "      <td>есть гетерос.</td>\n",
       "    </tr>\n",
       "    <tr>\n",
       "      <th>X6 &amp; |e|</th>\n",
       "      <td>-0.143404</td>\n",
       "      <td>0.190424</td>\n",
       "      <td>нет гетерос.</td>\n",
       "    </tr>\n",
       "    <tr>\n",
       "      <th>X9 &amp; |e|</th>\n",
       "      <td>0.075454</td>\n",
       "      <td>0.492502</td>\n",
       "      <td>нет гетерос.</td>\n",
       "    </tr>\n",
       "  </tbody>\n",
       "</table>\n",
       "</div>"
      ],
      "text/plain": [
       "               rho    pvalue     hypothesis\n",
       "X1 & |e| -0.299257  0.005399  есть гетерос.\n",
       "X3 & |e|  0.031114  0.777421   нет гетерос.\n",
       "X5 & |e| -0.296670  0.005833  есть гетерос.\n",
       "X6 & |e| -0.143404  0.190424   нет гетерос.\n",
       "X9 & |e|  0.075454  0.492502   нет гетерос."
      ]
     },
     "execution_count": 25,
     "metadata": {},
     "output_type": "execute_result"
    }
   ],
   "source": [
    "# Тест Спирмена \n",
    "spearman = pd.DataFrame(columns=['rho', 'pvalue', 'hypothesis'])\n",
    "alpha = 0.05\n",
    "\n",
    "for x in new_data.columns[2:7]:\n",
    "    rho, pvalue = spearmanr(new_data[x], new_data['residuals'])\n",
    "    if pvalue < alpha:\n",
    "        hypothesis = 'есть гетерос.'\n",
    "    else:\n",
    "        hypothesis = 'нет гетерос.'\n",
    "\n",
    "    new_row = {'rho': rho, 'pvalue': pvalue, 'hypothesis': hypothesis}\n",
    "    spearman = pd.concat([spearman, pd.DataFrame([new_row], index=[f'{x} & |e|'])], ignore_index=False)\n",
    " \n",
    "spearman\n"
   ]
  },
  {
   "cell_type": "markdown",
   "metadata": {},
   "source": [
    "#### Проведем тест Голдфелда-Квандта"
   ]
  },
  {
   "cell_type": "code",
   "execution_count": 26,
   "metadata": {},
   "outputs": [
    {
     "name": "stdout",
     "output_type": "stream",
     "text": [
      "    X                           hypothesis\n",
      "0  X1     H1: наличие гетероскедастичности\n",
      "1  X3  H0: отсутствие гетероскедастичности\n",
      "2  X5     H1: наличие гетероскедастичности\n",
      "3  X6  H0: отсутствие гетероскедастичности\n",
      "4  X9  H0: отсутствие гетероскедастичности\n"
     ]
    }
   ],
   "source": [
    "# Тест Голдфелда-Квандта \n",
    "def test_kvandta(file, Xj, Y):\n",
    "    kvandta = pd.DataFrame()\n",
    "    kvandta['Y'] = file[Y]\n",
    "    kvandta['Xj'] = file[Xj]\n",
    "    kvandta = kvandta.sort_values(by = 'Xj')\n",
    "    n = round(3/8 * len(file))\n",
    "\n",
    "    n1 = kvandta[:n]\n",
    "    n2 = kvandta[-n:]\n",
    "\n",
    "    X1 = sm.add_constant(n1['Xj'])\n",
    "    X2 = sm.add_constant(n2['Xj'])\n",
    "\n",
    "    model1 = sm.OLS(n1['Y'],X1).fit()\n",
    "    model2 = sm.OLS(n2['Y'],X2).fit()\n",
    "\n",
    "    rss1 = np.sum(model1.resid**2)\n",
    "    rss2 = np.sum(model2.resid**2)\n",
    "    fvalue = max(rss1,rss2) / min(rss1,rss2)\n",
    "    \n",
    "    alpha = 0.05\n",
    "    df1 = model1.df_resid\n",
    "    df2 = model2.df_resid\n",
    "    F_critical = stats.f.ppf(1 - alpha, df2, df1)\n",
    "    \n",
    "    if fvalue > F_critical:\n",
    "        h = 'H1: наличие гетероскедастичности' \n",
    "    else:\n",
    "        h = 'H0: отсутствие гетероскедастичности'\n",
    "\n",
    "    return (h)\n",
    "\n",
    "\n",
    "results = []\n",
    "for x in new_data.columns[2:7]:\n",
    "    t = test_kvandta(new_data, x, 'Y')\n",
    "    results.append({'X': x, 'hypothesis': t})\n",
    "\n",
    "kvandta = pd.DataFrame(results)\n",
    "print(kvandta)\n"
   ]
  },
  {
   "cell_type": "markdown",
   "metadata": {},
   "source": [
    "#### Проведем тест Глейзера"
   ]
  },
  {
   "cell_type": "code",
   "execution_count": 27,
   "metadata": {},
   "outputs": [
    {
     "name": "stdout",
     "output_type": "stream",
     "text": [
      "      ϒ      b0     Sb0      b1     Sb1      R2        F    pval\n",
      "0  -3.0  1.3350  0.1356  0.0264  0.0353  0.0067   0.5579  0.4572\n",
      "1  -2.5  1.3004  0.1420  0.0653  0.0598  0.0141   1.1899  0.2785\n",
      "2  -2.0  1.2290  0.1576  0.1511  0.1015  0.0260   2.2154  0.1404\n",
      "3  -1.5  1.0729  0.1982  0.3373  0.1749  0.0429   3.7175  0.0573\n",
      "4  -1.0  0.6945  0.3089  0.7655  0.3211  0.0641   5.6842  0.0194\n",
      "5  -0.5 -0.5624  0.6961  2.0903  0.7417  0.0873   7.9431  0.0060\n",
      "6   0.5  4.6018  0.9397 -2.9203  0.8419  0.1266  12.0320  0.0008\n",
      "7   1.0  3.2751  0.5362 -1.5301  0.4196  0.1381  13.2973  0.0005\n",
      "8   1.5  2.7975  0.4007 -1.0065  0.2696  0.1437  13.9325  0.0003\n",
      "9   2.0  2.5299  0.3319 -0.7111  0.1898  0.1446  14.0313  0.0003\n",
      "10  2.5  2.3480  0.2897 -0.5173  0.1396  0.1420  13.7365  0.0004\n",
      "11  3.0  2.2116  0.2609 -0.3816  0.1051  0.1371  13.1833  0.0005\n"
     ]
    }
   ],
   "source": [
    "# Тест Глейзера для Х1\n",
    "def gleizera(file, Xj):\n",
    "    gleiz  = pd.DataFrame(columns=['ϒ', 'b0', 'Sb0', 'b1', 'Sb1', 'R2', 'F'])\n",
    "    gamma = np.arange(-3, 3.5, 0.5)\n",
    "    gamma = gamma[gamma != 0]\n",
    "\n",
    "    result = []\n",
    "    for i in gamma:\n",
    "        x = file[Xj] ** i \n",
    "        y = file['residuals']\n",
    "        x = sm.add_constant(x)\n",
    "        model_glz = sm.OLS(y, x).fit()\n",
    "        \n",
    "        result.append ({\n",
    "        'ϒ': i,\n",
    "        'b0': model_glz.params['const'], \n",
    "        'Sb0': model_glz.bse['const'],    \n",
    "        'b1': model_glz.params[Xj],  \n",
    "        'Sb1': model_glz.bse[Xj],  \n",
    "        'R2': model_glz.rsquared,   \n",
    "        'F': model_glz.fvalue,     \n",
    "        'pval': model_glz.f_pvalue\n",
    "    })\n",
    "        gleiz = pd.DataFrame(result)\n",
    "        gleiz = gleiz.round(4)\n",
    "    return gleiz\n",
    "\n",
    "gleiz = gleizera(new_data, 'X1')\n",
    "print(gleiz)\n"
   ]
  },
  {
   "cell_type": "code",
   "execution_count": 28,
   "metadata": {},
   "outputs": [
    {
     "name": "stdout",
     "output_type": "stream",
     "text": [
      "H1: наличие гетероскедастичности\n"
     ]
    }
   ],
   "source": [
    "alpha = 0.05 \n",
    "for pval in gleiz['pval']: \n",
    "    if pval < alpha:\n",
    "        print('H1: наличие гетероскедастичности')\n",
    "        break"
   ]
  },
  {
   "cell_type": "markdown",
   "metadata": {},
   "source": [
    "#### Найдем ОМНК-оценки коэффициентов уравнения регрессии для построения ОЛММР"
   ]
  },
  {
   "cell_type": "code",
   "execution_count": 29,
   "metadata": {},
   "outputs": [
    {
     "data": {
      "application/vnd.microsoft.datawrangler.viewer.v0+json": {
       "columns": [
        {
         "name": "index",
         "rawType": "object",
         "type": "string"
        },
        {
         "name": "b",
         "rawType": "float64",
         "type": "float"
        },
        {
         "name": "Sbj",
         "rawType": "float64",
         "type": "float"
        }
       ],
       "conversionMethod": "pd.DataFrame",
       "ref": "167b701d-9929-44e3-871b-cb13b39b694a",
       "rows": [
        [
         "const",
         "65.84542461290948",
         "2.5100666655945503"
        ],
        [
         "x1",
         "-3.7671290062041862",
         "0.919639874542636"
        ],
        [
         "x3",
         "-0.04433713546413287",
         "0.028233662027444976"
        ],
        [
         "x5",
         "0.008381247715126161",
         "0.0017487930913929113"
        ],
        [
         "x6",
         "0.05791183871751526",
         "0.010337795197861911"
        ],
        [
         "x9",
         "-0.019640815740235684",
         "0.005465819182601988"
        ]
       ],
       "shape": {
        "columns": 2,
        "rows": 6
       }
      },
      "text/html": [
       "<div>\n",
       "<style scoped>\n",
       "    .dataframe tbody tr th:only-of-type {\n",
       "        vertical-align: middle;\n",
       "    }\n",
       "\n",
       "    .dataframe tbody tr th {\n",
       "        vertical-align: top;\n",
       "    }\n",
       "\n",
       "    .dataframe thead th {\n",
       "        text-align: right;\n",
       "    }\n",
       "</style>\n",
       "<table border=\"1\" class=\"dataframe\">\n",
       "  <thead>\n",
       "    <tr style=\"text-align: right;\">\n",
       "      <th></th>\n",
       "      <th>b</th>\n",
       "      <th>Sbj</th>\n",
       "    </tr>\n",
       "  </thead>\n",
       "  <tbody>\n",
       "    <tr>\n",
       "      <th>const</th>\n",
       "      <td>65.845425</td>\n",
       "      <td>2.510067</td>\n",
       "    </tr>\n",
       "    <tr>\n",
       "      <th>x1</th>\n",
       "      <td>-3.767129</td>\n",
       "      <td>0.919640</td>\n",
       "    </tr>\n",
       "    <tr>\n",
       "      <th>x3</th>\n",
       "      <td>-0.044337</td>\n",
       "      <td>0.028234</td>\n",
       "    </tr>\n",
       "    <tr>\n",
       "      <th>x5</th>\n",
       "      <td>0.008381</td>\n",
       "      <td>0.001749</td>\n",
       "    </tr>\n",
       "    <tr>\n",
       "      <th>x6</th>\n",
       "      <td>0.057912</td>\n",
       "      <td>0.010338</td>\n",
       "    </tr>\n",
       "    <tr>\n",
       "      <th>x9</th>\n",
       "      <td>-0.019641</td>\n",
       "      <td>0.005466</td>\n",
       "    </tr>\n",
       "  </tbody>\n",
       "</table>\n",
       "</div>"
      ],
      "text/plain": [
       "               b       Sbj\n",
       "const  65.845425  2.510067\n",
       "x1     -3.767129  0.919640\n",
       "x3     -0.044337  0.028234\n",
       "x5      0.008381  0.001749\n",
       "x6      0.057912  0.010338\n",
       "x9     -0.019641  0.005466"
      ]
     },
     "execution_count": 29,
     "metadata": {},
     "output_type": "execute_result"
    }
   ],
   "source": [
    "# Оценки bomnk и Sbj\n",
    "\n",
    "def bomnk(file, Xj): \n",
    "    X = file.iloc[:, 2:7] \n",
    "    Y = file.iloc[:, 1]  \n",
    "    n = len(Y)\n",
    "\n",
    "    X1 = np.diag(1 / file[Xj]**2)\n",
    "    XJ = sm.add_constant(X)\n",
    "    XJ_np = XJ.to_numpy()\n",
    "    Y_np = Y.to_numpy().reshape(-1, 1)\n",
    "    \n",
    "    # bomnk\n",
    "    part1 = np.linalg.inv(XJ_np.T @ np.linalg.inv(X1) @ XJ_np)\n",
    "    part2 = XJ_np.T @ np.linalg.inv(X1) @ Y_np\n",
    "    b = np.dot(part1, part2)\n",
    "    b_df = pd.DataFrame(b, index=['const', 'x1','x3','x5','x6','x9'], columns=['b'])\n",
    "\n",
    "    # Sbj\n",
    "    fgh = Y_np - XJ_np @ b \n",
    "    Somnk = np.sqrt((fgh.T @ np.linalg.inv(X1) @ fgh) / (n - XJ_np.shape[1] - 1))\n",
    "    XT_invX_X = np.linalg.inv(XJ_np.T @ np.linalg.inv(X1) @ XJ_np)\n",
    "    Sbj = pd.DataFrame(np.sqrt(np.diag(Somnk[0,0]**2 * XT_invX_X)), columns=['Sbj'], index=['const', 'x1','x3','x5','x6','x9'])\n",
    "\n",
    "    res = b_df.join(Sbj)\n",
    "    return res\n",
    "\n",
    "b_table = bomnk(new_data, 'X1')\n",
    "b_table\n",
    "\n"
   ]
  },
  {
   "cell_type": "markdown",
   "metadata": {},
   "source": [
    "#### Построение обобщенной линейной модели множественной регрессии"
   ]
  },
  {
   "cell_type": "code",
   "execution_count": 30,
   "metadata": {},
   "outputs": [
    {
     "name": "stdout",
     "output_type": "stream",
     "text": [
      "Уравнение регрессии:\n",
      "Y = 65.8454 - 3.767129*x1 - 0.044337*x3 + 0.008381*x5 + 0.057912*x6 - 0.019641*x9\n"
     ]
    }
   ],
   "source": [
    "\n",
    "new_equationOMNK = f\"Y = {b_table.iloc[0,0]:.4f}\"\n",
    "\n",
    "for i in range(1,6):\n",
    "    x = b_table.index[i]\n",
    "    coeff = b_table.iloc[i,0]\n",
    "    sign = \"+\" if coeff >= 0 else \"-\"\n",
    "    new_equationOMNK += f\" {sign} {abs(coeff):.6f}*{x}\"\n",
    "\n",
    "\n",
    "print(\"Уравнение регрессии:\")\n",
    "print(new_equationOMNK)\n"
   ]
  },
  {
   "cell_type": "markdown",
   "metadata": {},
   "source": [
    "#### Проверим модель на автокорреляцию"
   ]
  },
  {
   "cell_type": "code",
   "execution_count": 31,
   "metadata": {},
   "outputs": [
    {
     "data": {
      "text/plain": [
       "<matplotlib.legend.Legend at 0x1e4a7e193d0>"
      ]
     },
     "execution_count": 31,
     "metadata": {},
     "output_type": "execute_result"
    },
    {
     "data": {
      "image/png": "[encoded data removed]",
      "text/plain": [
       "<Figure size 640x480 with 1 Axes>"
      ]
     },
     "metadata": {},
     "output_type": "display_data"
    }
   ],
   "source": [
    "# Автокорреляция \n",
    "\n",
    "x_oxis = np.arange(1,86)\n",
    "y_oxis = new_model.resid\n",
    "plt.plot(x_oxis,y_oxis)\n",
    "plt.axhline(y=0, color='black', linestyle='--')\n",
    "plt.scatter(x_oxis, y_oxis, label=\"Residuals\")   \n",
    "plt.xlabel('n')\n",
    "plt.ylabel(\"Residuals\")\n",
    "plt.title(f\"Residuals\")\n",
    "plt.legend() \n"
   ]
  },
  {
   "cell_type": "code",
   "execution_count": 32,
   "metadata": {},
   "outputs": [
    {
     "name": "stdout",
     "output_type": "stream",
     "text": [
      "Автокорреляция не обнаружена.\n"
     ]
    }
   ],
   "source": [
    "import statsmodels.api as sm\n",
    "from statsmodels.stats.stattools import durbin_watson\n",
    "dw_statistic = durbin_watson(new_model.resid)\n",
    "if dw_statistic < 1.5:\n",
    "    print(\"Обнаружена положительная автокорреляция.\")\n",
    "elif dw_statistic > 2.5:\n",
    "    print(\"Обнаружена отрицательная автокорреляция.\")\n",
    "else:\n",
    "    print(\"Автокорреляция не обнаружена.\")"
   ]
  },
  {
   "cell_type": "markdown",
   "metadata": {},
   "source": [
    "### Вывод: Опираясь на результаты проведенного анализа, можно заключить, что построенная модель оценки продолжительности жизни граждан является статистически корректной и адекватно отражает влияние выбранных факторов. Отсутствие автокорреляции, мультиколлинеарности и гетероскедастичности подтверждает надежность и состоятельность полученных оценок."
   ]
  }
 ],
 "metadata": {
  "kernelspec": {
   "display_name": "base",
   "language": "python",
   "name": "python3"
  },
  "language_info": {
   "codemirror_mode": {
    "name": "ipython",
    "version": 3
   },
   "file_extension": ".py",
   "mimetype": "text/x-python",
   "name": "python",
   "nbconvert_exporter": "python",
   "pygments_lexer": "ipython3",
   "version": "3.12.7"
  }
 },
 "nbformat": 4,
 "nbformat_minor": 2
}
